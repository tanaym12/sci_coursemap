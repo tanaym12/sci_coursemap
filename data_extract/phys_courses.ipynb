{
 "cells": [
  {
   "cell_type": "code",
   "execution_count": 1,
   "metadata": {},
   "outputs": [],
   "source": [
    "import pandas as pd"
   ]
  },
  {
   "cell_type": "code",
   "execution_count": 2,
   "metadata": {},
   "outputs": [],
   "source": [
    "file1 = pd.read_excel(\"data\\Course_Section_Search_-_Central Term 1.xlsx\", skiprows=1)\n",
    "file2 = pd.read_excel(\"data\\Course_Section_Search_-_Central Term 2 and Summer 2025.xlsx\", skiprows=1)"
   ]
  },
  {
   "cell_type": "code",
   "execution_count": 3,
   "metadata": {},
   "outputs": [],
   "source": [
    "file1_phys = file1.copy()\n",
    "file2_phys = file2.copy()"
   ]
  },
  {
   "cell_type": "code",
   "execution_count": 4,
   "metadata": {},
   "outputs": [
    {
     "data": {
      "text/plain": [
       "(4091, 44)"
      ]
     },
     "execution_count": 4,
     "metadata": {},
     "output_type": "execute_result"
    }
   ],
   "source": [
    "phys_courses = pd.concat([file1_phys, file2_phys], ignore_index=True)\n",
    "phys_courses.shape"
   ]
  },
  {
   "cell_type": "code",
   "execution_count": 5,
   "metadata": {},
   "outputs": [],
   "source": [
    "phys_courses = phys_courses[phys_courses['Course Number'] < 500]"
   ]
  },
  {
   "cell_type": "code",
   "execution_count": 6,
   "metadata": {},
   "outputs": [],
   "source": [
    "phys_courses.loc[:, 'Course Code'] = phys_courses['Course Subject'] + \" \" + phys_courses['Course Number'].astype(str)"
   ]
  },
  {
   "cell_type": "code",
   "execution_count": 7,
   "metadata": {},
   "outputs": [],
   "source": [
    "phys_courses_final = phys_courses.drop_duplicates(subset=['Course Code'], keep='first')"
   ]
  },
  {
   "cell_type": "code",
   "execution_count": 8,
   "metadata": {},
   "outputs": [
    {
     "data": {
      "text/plain": [
       "(658, 45)"
      ]
     },
     "execution_count": 8,
     "metadata": {},
     "output_type": "execute_result"
    }
   ],
   "source": [
    "phys_courses_final.shape"
   ]
  },
  {
   "cell_type": "markdown",
   "metadata": {},
   "source": [
    "### Extracting Requisites"
   ]
  },
  {
   "cell_type": "code",
   "execution_count": 9,
   "metadata": {},
   "outputs": [
    {
     "data": {
      "text/html": [
       "<div>\n",
       "<style scoped>\n",
       "    .dataframe tbody tr th:only-of-type {\n",
       "        vertical-align: middle;\n",
       "    }\n",
       "\n",
       "    .dataframe tbody tr th {\n",
       "        vertical-align: top;\n",
       "    }\n",
       "\n",
       "    .dataframe thead th {\n",
       "        text-align: right;\n",
       "    }\n",
       "</style>\n",
       "<table border=\"1\" class=\"dataframe\">\n",
       "  <thead>\n",
       "    <tr style=\"text-align: right;\">\n",
       "      <th></th>\n",
       "      <th>Course Code</th>\n",
       "      <th>Description</th>\n",
       "      <th>reqs</th>\n",
       "    </tr>\n",
       "  </thead>\n",
       "  <tbody>\n",
       "    <tr>\n",
       "      <th>2029</th>\n",
       "      <td>STAT_V 201</td>\n",
       "      <td>Classical and simulation-based techniques for ...</td>\n",
       "      <td>Prerequisite: DSCI 100.</td>\n",
       "    </tr>\n",
       "    <tr>\n",
       "      <th>342</th>\n",
       "      <td>BIOL_V 336</td>\n",
       "      <td>Natural selection; population genetics, quanti...</td>\n",
       "      <td>Prerequisite: One of BIOL 233, BIOL 234.</td>\n",
       "    </tr>\n",
       "    <tr>\n",
       "      <th>1276</th>\n",
       "      <td>EOSC_V 325</td>\n",
       "      <td>Theories of storage and movement of water with...</td>\n",
       "      <td>Prerequisite: (a) 3rd year standing in Science...</td>\n",
       "    </tr>\n",
       "    <tr>\n",
       "      <th>730</th>\n",
       "      <td>CPSC_V 110</td>\n",
       "      <td>Fundamental program and computation structures...</td>\n",
       "      <td>NaN</td>\n",
       "    </tr>\n",
       "    <tr>\n",
       "      <th>1669</th>\n",
       "      <td>MICB_V 405</td>\n",
       "      <td>Computational methods to analyze genome and pr...</td>\n",
       "      <td>Prerequisite: One of MICB 301, MICB 325, BIOC ...</td>\n",
       "    </tr>\n",
       "  </tbody>\n",
       "</table>\n",
       "</div>"
      ],
      "text/plain": [
       "     Course Code                                        Description  \\\n",
       "2029  STAT_V 201  Classical and simulation-based techniques for ...   \n",
       "342   BIOL_V 336  Natural selection; population genetics, quanti...   \n",
       "1276  EOSC_V 325  Theories of storage and movement of water with...   \n",
       "730   CPSC_V 110  Fundamental program and computation structures...   \n",
       "1669  MICB_V 405  Computational methods to analyze genome and pr...   \n",
       "\n",
       "                                                   reqs  \n",
       "2029                            Prerequisite: DSCI 100.  \n",
       "342            Prerequisite: One of BIOL 233, BIOL 234.  \n",
       "1276  Prerequisite: (a) 3rd year standing in Science...  \n",
       "730                                                 NaN  \n",
       "1669  Prerequisite: One of MICB 301, MICB 325, BIOC ...  "
      ]
     },
     "execution_count": 9,
     "metadata": {},
     "output_type": "execute_result"
    }
   ],
   "source": [
    "import re\n",
    "\n",
    "course_description = phys_courses_final[['Course Code', 'Description']].copy()\n",
    "course_description.loc[:, 'reqs'] = course_description['Description'].str.extract(\n",
    "    r'((prerequisite|corequisite)[\\s\\S]*)', \n",
    "    flags=re.IGNORECASE\n",
    ")[0]\n",
    "course_description.sample(5)"
   ]
  },
  {
   "cell_type": "code",
   "execution_count": 10,
   "metadata": {},
   "outputs": [
    {
     "data": {
      "text/html": [
       "<div>\n",
       "<style scoped>\n",
       "    .dataframe tbody tr th:only-of-type {\n",
       "        vertical-align: middle;\n",
       "    }\n",
       "\n",
       "    .dataframe tbody tr th {\n",
       "        vertical-align: top;\n",
       "    }\n",
       "\n",
       "    .dataframe thead th {\n",
       "        text-align: right;\n",
       "    }\n",
       "</style>\n",
       "<table border=\"1\" class=\"dataframe\">\n",
       "  <thead>\n",
       "    <tr style=\"text-align: right;\">\n",
       "      <th></th>\n",
       "      <th>Course Code</th>\n",
       "      <th>Description</th>\n",
       "      <th>reqs</th>\n",
       "    </tr>\n",
       "  </thead>\n",
       "  <tbody>\n",
       "    <tr>\n",
       "      <th>3310</th>\n",
       "      <td>EOSC_V 240</td>\n",
       "      <td>Theory and practice of site investigation for ...</td>\n",
       "      <td>Prerequisite: EOSC 210. Corequisite: CIVL 210.</td>\n",
       "    </tr>\n",
       "    <tr>\n",
       "      <th>630</th>\n",
       "      <td>CHEM_V 318</td>\n",
       "      <td>Fundamental aspects of chemical catalysis: kin...</td>\n",
       "      <td>Prerequisite: One of CHEM 218, CHEM 250.</td>\n",
       "    </tr>\n",
       "    <tr>\n",
       "      <th>3413</th>\n",
       "      <td>FSCT_V 490</td>\n",
       "      <td>Block registration for the expert witness test...</td>\n",
       "      <td>NaN</td>\n",
       "    </tr>\n",
       "  </tbody>\n",
       "</table>\n",
       "</div>"
      ],
      "text/plain": [
       "     Course Code                                        Description  \\\n",
       "3310  EOSC_V 240  Theory and practice of site investigation for ...   \n",
       "630   CHEM_V 318  Fundamental aspects of chemical catalysis: kin...   \n",
       "3413  FSCT_V 490  Block registration for the expert witness test...   \n",
       "\n",
       "                                                reqs  \n",
       "3310  Prerequisite: EOSC 210. Corequisite: CIVL 210.  \n",
       "630         Prerequisite: One of CHEM 218, CHEM 250.  \n",
       "3413                                             NaN  "
      ]
     },
     "execution_count": 10,
     "metadata": {},
     "output_type": "execute_result"
    }
   ],
   "source": [
    "pattern = r'\\b[A-Z]{4}\\s\\d{3}\\sis\\srecommended\\.'\n",
    "\n",
    "# Remove the sentence if present\n",
    "course_description['reqs'] = course_description['reqs'].str.replace(pattern, '', regex=True)\n",
    "course_description.sample(3)"
   ]
  },
  {
   "cell_type": "code",
   "execution_count": 11,
   "metadata": {},
   "outputs": [],
   "source": [
    "def extract_reqs(text, keyword):\n",
    "    if isinstance(text, str):\n",
    "        match = re.search(fr'{keyword}:.*?[.\\]]', text)\n",
    "        return match.group(0) if match else ''\n",
    "    return ''\n",
    "\n",
    "# Create 'prereqs' and 'coreqs' columns\n",
    "course_description['prereqs'] = course_description['reqs'].apply(lambda x: extract_reqs(x, 'Prerequisite'))\n",
    "course_description['coreqs'] = course_description['reqs'].apply(lambda x: extract_reqs(x, 'Corequisite'))"
   ]
  },
  {
   "cell_type": "code",
   "execution_count": 12,
   "metadata": {},
   "outputs": [
    {
     "data": {
      "text/html": [
       "<div>\n",
       "<style scoped>\n",
       "    .dataframe tbody tr th:only-of-type {\n",
       "        vertical-align: middle;\n",
       "    }\n",
       "\n",
       "    .dataframe tbody tr th {\n",
       "        vertical-align: top;\n",
       "    }\n",
       "\n",
       "    .dataframe thead th {\n",
       "        text-align: right;\n",
       "    }\n",
       "</style>\n",
       "<table border=\"1\" class=\"dataframe\">\n",
       "  <thead>\n",
       "    <tr style=\"text-align: right;\">\n",
       "      <th></th>\n",
       "      <th>Course Code</th>\n",
       "      <th>Description</th>\n",
       "      <th>reqs</th>\n",
       "      <th>prereqs</th>\n",
       "      <th>coreqs</th>\n",
       "      <th>prereq_courses</th>\n",
       "      <th>coreq_courses</th>\n",
       "    </tr>\n",
       "  </thead>\n",
       "  <tbody>\n",
       "    <tr>\n",
       "      <th>1100</th>\n",
       "      <td>DSCI_V 430</td>\n",
       "      <td>Ethical application of data science and machin...</td>\n",
       "      <td>Prerequisite: One of CPSC 330, CPSC 340, STAT ...</td>\n",
       "      <td>Prerequisite: One of CPSC 330, CPSC 340, STAT ...</td>\n",
       "      <td></td>\n",
       "      <td>[CPSC 330, CPSC 340, STAT 301, STAT 406]</td>\n",
       "      <td>[]</td>\n",
       "    </tr>\n",
       "    <tr>\n",
       "      <th>1583</th>\n",
       "      <td>MATH_V 450</td>\n",
       "      <td>Asymptotic expansions. Asymptotic evaluation o...</td>\n",
       "      <td>Prerequisite: MATH 400.</td>\n",
       "      <td>Prerequisite: MATH 400.</td>\n",
       "      <td></td>\n",
       "      <td>[MATH 400]</td>\n",
       "      <td>[]</td>\n",
       "    </tr>\n",
       "    <tr>\n",
       "      <th>2472</th>\n",
       "      <td>BIOL_V 362</td>\n",
       "      <td>The cytoskeleton, cell dynamics, and regulatio...</td>\n",
       "      <td>Prerequisite: BIOL 200 and one of APBI 312, AP...</td>\n",
       "      <td>Prerequisite: BIOL 200 and one of APBI 312, AP...</td>\n",
       "      <td></td>\n",
       "      <td>[BIOL 200, APBI 312, APBI 351, BIOL 260, BIOL ...</td>\n",
       "      <td>[]</td>\n",
       "    </tr>\n",
       "    <tr>\n",
       "      <th>2696</th>\n",
       "      <td>CHEM_V 403</td>\n",
       "      <td>Surfaces and phenomena occurring at surfaces a...</td>\n",
       "      <td>Prerequisite: CHEM 304 and one of MATH 200, MA...</td>\n",
       "      <td>Prerequisite: CHEM 304 and one of MATH 200, MA...</td>\n",
       "      <td></td>\n",
       "      <td>[CHEM 304, MATH 200, MATH 217, MATH 226, MATH ...</td>\n",
       "      <td>[]</td>\n",
       "    </tr>\n",
       "    <tr>\n",
       "      <th>1573</th>\n",
       "      <td>MATH_V 425</td>\n",
       "      <td>Smooth manifolds, smooth maps, immersions and ...</td>\n",
       "      <td>Prerequisite: One of MATH 221, MATH 223 and on...</td>\n",
       "      <td>Prerequisite: One of MATH 221, MATH 223 and on...</td>\n",
       "      <td></td>\n",
       "      <td>[MATH 221, MATH 223, MATH 217, MATH 227, MATH ...</td>\n",
       "      <td>[]</td>\n",
       "    </tr>\n",
       "  </tbody>\n",
       "</table>\n",
       "</div>"
      ],
      "text/plain": [
       "     Course Code                                        Description  \\\n",
       "1100  DSCI_V 430  Ethical application of data science and machin...   \n",
       "1583  MATH_V 450  Asymptotic expansions. Asymptotic evaluation o...   \n",
       "2472  BIOL_V 362  The cytoskeleton, cell dynamics, and regulatio...   \n",
       "2696  CHEM_V 403  Surfaces and phenomena occurring at surfaces a...   \n",
       "1573  MATH_V 425  Smooth manifolds, smooth maps, immersions and ...   \n",
       "\n",
       "                                                   reqs  \\\n",
       "1100  Prerequisite: One of CPSC 330, CPSC 340, STAT ...   \n",
       "1583                            Prerequisite: MATH 400.   \n",
       "2472  Prerequisite: BIOL 200 and one of APBI 312, AP...   \n",
       "2696  Prerequisite: CHEM 304 and one of MATH 200, MA...   \n",
       "1573  Prerequisite: One of MATH 221, MATH 223 and on...   \n",
       "\n",
       "                                                prereqs coreqs  \\\n",
       "1100  Prerequisite: One of CPSC 330, CPSC 340, STAT ...          \n",
       "1583                            Prerequisite: MATH 400.          \n",
       "2472  Prerequisite: BIOL 200 and one of APBI 312, AP...          \n",
       "2696  Prerequisite: CHEM 304 and one of MATH 200, MA...          \n",
       "1573  Prerequisite: One of MATH 221, MATH 223 and on...          \n",
       "\n",
       "                                         prereq_courses coreq_courses  \n",
       "1100           [CPSC 330, CPSC 340, STAT 301, STAT 406]            []  \n",
       "1583                                         [MATH 400]            []  \n",
       "2472  [BIOL 200, APBI 312, APBI 351, BIOL 260, BIOL ...            []  \n",
       "2696  [CHEM 304, MATH 200, MATH 217, MATH 226, MATH ...            []  \n",
       "1573  [MATH 221, MATH 223, MATH 217, MATH 227, MATH ...            []  "
      ]
     },
     "execution_count": 12,
     "metadata": {},
     "output_type": "execute_result"
    }
   ],
   "source": [
    "course_description['prereq_courses'] = course_description['prereqs'].apply(\n",
    "    lambda x: re.findall(r'[A-Z]{4}\\s*\\d{3}', str(x)) if isinstance(x, str) else []\n",
    ")\n",
    "course_description['coreq_courses'] = course_description['coreqs'].apply(\n",
    "    lambda x: re.findall(r'[A-Z]{4}\\s*\\d{3}', str(x)) if isinstance(x, str) else []\n",
    ")\n",
    "course_description.sample(5)"
   ]
  },
  {
   "cell_type": "code",
   "execution_count": 13,
   "metadata": {},
   "outputs": [],
   "source": [
    "course_description.drop(columns=['prereqs', 'coreqs', 'reqs'], inplace=True)"
   ]
  },
  {
   "cell_type": "code",
   "execution_count": 14,
   "metadata": {},
   "outputs": [
    {
     "data": {
      "text/html": [
       "<div>\n",
       "<style scoped>\n",
       "    .dataframe tbody tr th:only-of-type {\n",
       "        vertical-align: middle;\n",
       "    }\n",
       "\n",
       "    .dataframe tbody tr th {\n",
       "        vertical-align: top;\n",
       "    }\n",
       "\n",
       "    .dataframe thead th {\n",
       "        text-align: right;\n",
       "    }\n",
       "</style>\n",
       "<table border=\"1\" class=\"dataframe\">\n",
       "  <thead>\n",
       "    <tr style=\"text-align: right;\">\n",
       "      <th></th>\n",
       "      <th>Course Code</th>\n",
       "      <th>Description</th>\n",
       "      <th>prereq_courses</th>\n",
       "      <th>coreq_courses</th>\n",
       "    </tr>\n",
       "  </thead>\n",
       "  <tbody>\n",
       "    <tr>\n",
       "      <th>3310</th>\n",
       "      <td>EOSC_V 240</td>\n",
       "      <td>Theory and practice of site investigation for ...</td>\n",
       "      <td>[EOSC 210]</td>\n",
       "      <td>[CIVL 210]</td>\n",
       "    </tr>\n",
       "  </tbody>\n",
       "</table>\n",
       "</div>"
      ],
      "text/plain": [
       "     Course Code                                        Description  \\\n",
       "3310  EOSC_V 240  Theory and practice of site investigation for ...   \n",
       "\n",
       "     prereq_courses coreq_courses  \n",
       "3310     [EOSC 210]    [CIVL 210]  "
      ]
     },
     "execution_count": 14,
     "metadata": {},
     "output_type": "execute_result"
    }
   ],
   "source": [
    "course_description.sample()"
   ]
  },
  {
   "cell_type": "code",
   "execution_count": 15,
   "metadata": {},
   "outputs": [],
   "source": [
    "def standardize_courses(list):\n",
    "    standardized_list = []\n",
    "    for course in list:\n",
    "        # Use regex to find courses with no space before the number\n",
    "        standardized_course = re.sub(r'([A-Z]+)(\\d+)', r'\\1 \\2', course)\n",
    "        standardized_list.append(standardized_course)\n",
    "    return standardized_list\n",
    "\n",
    "# Apply the function to the prereq_courses column\n",
    "course_description['prereq_courses'] = course_description['prereq_courses'].apply(standardize_courses)\n",
    "course_description['coreq_courses'] = course_description['coreq_courses'].apply(standardize_courses)"
   ]
  },
  {
   "cell_type": "code",
   "execution_count": 16,
   "metadata": {},
   "outputs": [],
   "source": [
    "course_description['Course Code'] = course_description['Course Code'].str.replace('_V', '', regex=False)"
   ]
  },
  {
   "cell_type": "code",
   "execution_count": 17,
   "metadata": {},
   "outputs": [
    {
     "data": {
      "text/html": [
       "<div>\n",
       "<style scoped>\n",
       "    .dataframe tbody tr th:only-of-type {\n",
       "        vertical-align: middle;\n",
       "    }\n",
       "\n",
       "    .dataframe tbody tr th {\n",
       "        vertical-align: top;\n",
       "    }\n",
       "\n",
       "    .dataframe thead th {\n",
       "        text-align: right;\n",
       "    }\n",
       "</style>\n",
       "<table border=\"1\" class=\"dataframe\">\n",
       "  <thead>\n",
       "    <tr style=\"text-align: right;\">\n",
       "      <th></th>\n",
       "      <th>Course Code</th>\n",
       "      <th>Description</th>\n",
       "      <th>prereq_courses</th>\n",
       "      <th>coreq_courses</th>\n",
       "    </tr>\n",
       "  </thead>\n",
       "  <tbody>\n",
       "    <tr>\n",
       "      <th>3598</th>\n",
       "      <td>MATH 419</td>\n",
       "      <td>Random walks, Markov chains, branching process...</td>\n",
       "      <td>[MATH 418]</td>\n",
       "      <td>[]</td>\n",
       "    </tr>\n",
       "  </tbody>\n",
       "</table>\n",
       "</div>"
      ],
      "text/plain": [
       "     Course Code                                        Description  \\\n",
       "3598    MATH 419  Random walks, Markov chains, branching process...   \n",
       "\n",
       "     prereq_courses coreq_courses  \n",
       "3598     [MATH 418]            []  "
      ]
     },
     "execution_count": 17,
     "metadata": {},
     "output_type": "execute_result"
    }
   ],
   "source": [
    "course_description.sample()"
   ]
  },
  {
   "cell_type": "code",
   "execution_count": 18,
   "metadata": {},
   "outputs": [
    {
     "data": {
      "text/html": [
       "<div>\n",
       "<style scoped>\n",
       "    .dataframe tbody tr th:only-of-type {\n",
       "        vertical-align: middle;\n",
       "    }\n",
       "\n",
       "    .dataframe tbody tr th {\n",
       "        vertical-align: top;\n",
       "    }\n",
       "\n",
       "    .dataframe thead th {\n",
       "        text-align: right;\n",
       "    }\n",
       "</style>\n",
       "<table border=\"1\" class=\"dataframe\">\n",
       "  <thead>\n",
       "    <tr style=\"text-align: right;\">\n",
       "      <th></th>\n",
       "      <th>Department</th>\n",
       "      <th>Course Code</th>\n",
       "      <th>Human Health</th>\n",
       "      <th>Data and Computation</th>\n",
       "      <th>AI</th>\n",
       "      <th>Clean Energy and Materials</th>\n",
       "      <th>Climate</th>\n",
       "      <th>Science and Society</th>\n",
       "      <th>Faculty of Arts: Ways of Knowing</th>\n",
       "      <th>Notes</th>\n",
       "    </tr>\n",
       "  </thead>\n",
       "  <tbody>\n",
       "    <tr>\n",
       "      <th>0</th>\n",
       "      <td>CAPS</td>\n",
       "      <td>ANAT_V 392</td>\n",
       "      <td>NaN</td>\n",
       "      <td>NaN</td>\n",
       "      <td>NaN</td>\n",
       "      <td>NaN</td>\n",
       "      <td>NaN</td>\n",
       "      <td>NaN</td>\n",
       "      <td>NaN</td>\n",
       "      <td>NaN</td>\n",
       "    </tr>\n",
       "  </tbody>\n",
       "</table>\n",
       "</div>"
      ],
      "text/plain": [
       "  Department Course Code Human Health Data and Computation  AI  \\\n",
       "0       CAPS  ANAT_V 392          NaN                  NaN NaN   \n",
       "\n",
       "  Clean Energy and Materials Climate Science and Society  \\\n",
       "0                        NaN     NaN                 NaN   \n",
       "\n",
       "  Faculty of Arts: Ways of Knowing Notes  \n",
       "0                              NaN   NaN  "
      ]
     },
     "execution_count": 18,
     "metadata": {},
     "output_type": "execute_result"
    }
   ],
   "source": [
    "themes = pd.read_csv('data/course_themes.csv')\n",
    "themes.head(1)"
   ]
  },
  {
   "cell_type": "code",
   "execution_count": 19,
   "metadata": {},
   "outputs": [
    {
     "data": {
      "text/html": [
       "<div>\n",
       "<style scoped>\n",
       "    .dataframe tbody tr th:only-of-type {\n",
       "        vertical-align: middle;\n",
       "    }\n",
       "\n",
       "    .dataframe tbody tr th {\n",
       "        vertical-align: top;\n",
       "    }\n",
       "\n",
       "    .dataframe thead th {\n",
       "        text-align: right;\n",
       "    }\n",
       "</style>\n",
       "<table border=\"1\" class=\"dataframe\">\n",
       "  <thead>\n",
       "    <tr style=\"text-align: right;\">\n",
       "      <th></th>\n",
       "      <th>Course Code</th>\n",
       "      <th>Human Health</th>\n",
       "      <th>Data and Computation</th>\n",
       "      <th>AI</th>\n",
       "      <th>Clean Energy and Materials</th>\n",
       "      <th>Climate</th>\n",
       "      <th>Science and Society</th>\n",
       "      <th>Faculty of Arts: Ways of Knowing</th>\n",
       "    </tr>\n",
       "  </thead>\n",
       "  <tbody>\n",
       "    <tr>\n",
       "      <th>0</th>\n",
       "      <td>ANAT_V 392</td>\n",
       "      <td>NaN</td>\n",
       "      <td>NaN</td>\n",
       "      <td>NaN</td>\n",
       "      <td>NaN</td>\n",
       "      <td>NaN</td>\n",
       "      <td>NaN</td>\n",
       "      <td>NaN</td>\n",
       "    </tr>\n",
       "  </tbody>\n",
       "</table>\n",
       "</div>"
      ],
      "text/plain": [
       "  Course Code Human Health Data and Computation  AI  \\\n",
       "0  ANAT_V 392          NaN                  NaN NaN   \n",
       "\n",
       "  Clean Energy and Materials Climate Science and Society  \\\n",
       "0                        NaN     NaN                 NaN   \n",
       "\n",
       "  Faculty of Arts: Ways of Knowing  \n",
       "0                              NaN  "
      ]
     },
     "execution_count": 19,
     "metadata": {},
     "output_type": "execute_result"
    }
   ],
   "source": [
    "themes.drop(columns=['Department', 'Notes'], inplace=True)\n",
    "themes.head(1)"
   ]
  },
  {
   "cell_type": "code",
   "execution_count": 20,
   "metadata": {},
   "outputs": [
    {
     "name": "stderr",
     "output_type": "stream",
     "text": [
      "C:\\Users\\mahen\\AppData\\Local\\Temp\\ipykernel_28684\\2876175342.py:1: DeprecationWarning: In a future version, `df.iloc[:, i] = newvals` will attempt to set the values inplace instead of always setting a new array. To retain the old behavior, use either `df[df.columns[i]] = newvals` or, if columns are non-unique, `df.isetitem(i, newvals)`\n",
      "  themes.iloc[:, 1:] = themes.iloc[:, 1:].notna()\n"
     ]
    },
    {
     "data": {
      "text/html": [
       "<div>\n",
       "<style scoped>\n",
       "    .dataframe tbody tr th:only-of-type {\n",
       "        vertical-align: middle;\n",
       "    }\n",
       "\n",
       "    .dataframe tbody tr th {\n",
       "        vertical-align: top;\n",
       "    }\n",
       "\n",
       "    .dataframe thead th {\n",
       "        text-align: right;\n",
       "    }\n",
       "</style>\n",
       "<table border=\"1\" class=\"dataframe\">\n",
       "  <thead>\n",
       "    <tr style=\"text-align: right;\">\n",
       "      <th></th>\n",
       "      <th>Course Code</th>\n",
       "      <th>Human Health</th>\n",
       "      <th>Data and Computation</th>\n",
       "      <th>AI</th>\n",
       "      <th>Clean Energy and Materials</th>\n",
       "      <th>Climate</th>\n",
       "      <th>Science and Society</th>\n",
       "      <th>Faculty of Arts: Ways of Knowing</th>\n",
       "    </tr>\n",
       "  </thead>\n",
       "  <tbody>\n",
       "    <tr>\n",
       "      <th>0</th>\n",
       "      <td>ANAT_V 392</td>\n",
       "      <td>False</td>\n",
       "      <td>False</td>\n",
       "      <td>False</td>\n",
       "      <td>False</td>\n",
       "      <td>False</td>\n",
       "      <td>False</td>\n",
       "      <td>False</td>\n",
       "    </tr>\n",
       "  </tbody>\n",
       "</table>\n",
       "</div>"
      ],
      "text/plain": [
       "  Course Code  Human Health  Data and Computation     AI  \\\n",
       "0  ANAT_V 392         False                 False  False   \n",
       "\n",
       "   Clean Energy and Materials  Climate  Science and Society  \\\n",
       "0                       False    False                False   \n",
       "\n",
       "   Faculty of Arts: Ways of Knowing  \n",
       "0                             False  "
      ]
     },
     "execution_count": 20,
     "metadata": {},
     "output_type": "execute_result"
    }
   ],
   "source": [
    "themes.iloc[:, 1:] = themes.iloc[:, 1:].notna() \n",
    "themes.head(1)"
   ]
  },
  {
   "cell_type": "code",
   "execution_count": 21,
   "metadata": {},
   "outputs": [
    {
     "data": {
      "text/html": [
       "<div>\n",
       "<style scoped>\n",
       "    .dataframe tbody tr th:only-of-type {\n",
       "        vertical-align: middle;\n",
       "    }\n",
       "\n",
       "    .dataframe tbody tr th {\n",
       "        vertical-align: top;\n",
       "    }\n",
       "\n",
       "    .dataframe thead th {\n",
       "        text-align: right;\n",
       "    }\n",
       "</style>\n",
       "<table border=\"1\" class=\"dataframe\">\n",
       "  <thead>\n",
       "    <tr style=\"text-align: right;\">\n",
       "      <th></th>\n",
       "      <th>Course Code</th>\n",
       "      <th>Human Health</th>\n",
       "      <th>Data and Computation</th>\n",
       "      <th>AI</th>\n",
       "      <th>Clean Energy and Materials</th>\n",
       "      <th>Climate</th>\n",
       "      <th>Science and Society</th>\n",
       "      <th>Faculty of Arts: Ways of Knowing</th>\n",
       "    </tr>\n",
       "  </thead>\n",
       "  <tbody>\n",
       "    <tr>\n",
       "      <th>233</th>\n",
       "      <td>CPSC 404</td>\n",
       "      <td>False</td>\n",
       "      <td>False</td>\n",
       "      <td>False</td>\n",
       "      <td>False</td>\n",
       "      <td>False</td>\n",
       "      <td>False</td>\n",
       "      <td>False</td>\n",
       "    </tr>\n",
       "  </tbody>\n",
       "</table>\n",
       "</div>"
      ],
      "text/plain": [
       "    Course Code  Human Health  Data and Computation     AI  \\\n",
       "233    CPSC 404         False                 False  False   \n",
       "\n",
       "     Clean Energy and Materials  Climate  Science and Society  \\\n",
       "233                       False    False                False   \n",
       "\n",
       "     Faculty of Arts: Ways of Knowing  \n",
       "233                             False  "
      ]
     },
     "execution_count": 21,
     "metadata": {},
     "output_type": "execute_result"
    }
   ],
   "source": [
    "themes['Course Code'] = themes['Course Code'].str.replace('_V', '', regex=False)\n",
    "themes.sample()"
   ]
  },
  {
   "cell_type": "code",
   "execution_count": 22,
   "metadata": {},
   "outputs": [],
   "source": [
    "themes['themes'] = themes.iloc[:, 1:].apply(lambda x: list(themes.columns[1:][x]), axis=1)"
   ]
  },
  {
   "cell_type": "code",
   "execution_count": 23,
   "metadata": {},
   "outputs": [
    {
     "data": {
      "text/html": [
       "<div>\n",
       "<style scoped>\n",
       "    .dataframe tbody tr th:only-of-type {\n",
       "        vertical-align: middle;\n",
       "    }\n",
       "\n",
       "    .dataframe tbody tr th {\n",
       "        vertical-align: top;\n",
       "    }\n",
       "\n",
       "    .dataframe thead th {\n",
       "        text-align: right;\n",
       "    }\n",
       "</style>\n",
       "<table border=\"1\" class=\"dataframe\">\n",
       "  <thead>\n",
       "    <tr style=\"text-align: right;\">\n",
       "      <th></th>\n",
       "      <th>Course Code</th>\n",
       "      <th>themes</th>\n",
       "    </tr>\n",
       "  </thead>\n",
       "  <tbody>\n",
       "    <tr>\n",
       "      <th>389</th>\n",
       "      <td>MICB 211</td>\n",
       "      <td>[]</td>\n",
       "    </tr>\n",
       "  </tbody>\n",
       "</table>\n",
       "</div>"
      ],
      "text/plain": [
       "    Course Code themes\n",
       "389    MICB 211     []"
      ]
     },
     "execution_count": 23,
     "metadata": {},
     "output_type": "execute_result"
    }
   ],
   "source": [
    "themes = themes[['Course Code', 'themes']]\n",
    "themes.sample()"
   ]
  },
  {
   "cell_type": "code",
   "execution_count": 24,
   "metadata": {},
   "outputs": [],
   "source": [
    "courses_with_themes = course_description.merge(themes, on='Course Code', how='left')"
   ]
  },
  {
   "cell_type": "code",
   "execution_count": 25,
   "metadata": {},
   "outputs": [
    {
     "data": {
      "text/html": [
       "<div>\n",
       "<style scoped>\n",
       "    .dataframe tbody tr th:only-of-type {\n",
       "        vertical-align: middle;\n",
       "    }\n",
       "\n",
       "    .dataframe tbody tr th {\n",
       "        vertical-align: top;\n",
       "    }\n",
       "\n",
       "    .dataframe thead th {\n",
       "        text-align: right;\n",
       "    }\n",
       "</style>\n",
       "<table border=\"1\" class=\"dataframe\">\n",
       "  <thead>\n",
       "    <tr style=\"text-align: right;\">\n",
       "      <th></th>\n",
       "      <th>Course Code</th>\n",
       "      <th>Description</th>\n",
       "      <th>prereq_courses</th>\n",
       "      <th>coreq_courses</th>\n",
       "      <th>themes</th>\n",
       "    </tr>\n",
       "  </thead>\n",
       "  <tbody>\n",
       "    <tr>\n",
       "      <th>628</th>\n",
       "      <td>EOSC 473</td>\n",
       "      <td>Methods of data acquisition, study and analysi...</td>\n",
       "      <td>[EOSC 372, EOSC 373]</td>\n",
       "      <td>[]</td>\n",
       "      <td>[]</td>\n",
       "    </tr>\n",
       "    <tr>\n",
       "      <th>166</th>\n",
       "      <td>CPSC 298</td>\n",
       "      <td>Approved and supervised technical work experie...</td>\n",
       "      <td>[]</td>\n",
       "      <td>[]</td>\n",
       "      <td>[]</td>\n",
       "    </tr>\n",
       "    <tr>\n",
       "      <th>325</th>\n",
       "      <td>MATH 437</td>\n",
       "      <td>Divisibility, congruences, Diophantine equatio...</td>\n",
       "      <td>[]</td>\n",
       "      <td>[MATH 320, MATH 319, MATH 322]</td>\n",
       "      <td>[]</td>\n",
       "    </tr>\n",
       "    <tr>\n",
       "      <th>387</th>\n",
       "      <td>PHYS 170</td>\n",
       "      <td>Statics of particles, equilibrium or rigid bod...</td>\n",
       "      <td>[]</td>\n",
       "      <td>[]</td>\n",
       "      <td>[]</td>\n",
       "    </tr>\n",
       "    <tr>\n",
       "      <th>139</th>\n",
       "      <td>CHEM 398</td>\n",
       "      <td>Approved and supervised technical work experie...</td>\n",
       "      <td>[]</td>\n",
       "      <td>[]</td>\n",
       "      <td>[]</td>\n",
       "    </tr>\n",
       "    <tr>\n",
       "      <th>702</th>\n",
       "      <td>PHYS 310</td>\n",
       "      <td>Fundamental principles and applications of dat...</td>\n",
       "      <td>[MATH 152, MATH 221, MATH 223, MATH 200, MATH ...</td>\n",
       "      <td>[]</td>\n",
       "      <td>[]</td>\n",
       "    </tr>\n",
       "    <tr>\n",
       "      <th>438</th>\n",
       "      <td>STAT 399</td>\n",
       "      <td>Work experience in an industrial research sett...</td>\n",
       "      <td>[STAT 398]</td>\n",
       "      <td>[]</td>\n",
       "      <td>[]</td>\n",
       "    </tr>\n",
       "    <tr>\n",
       "      <th>54</th>\n",
       "      <td>BIOL 329</td>\n",
       "      <td>How cells react to external signals, and how t...</td>\n",
       "      <td>[BIOL 200]</td>\n",
       "      <td>[]</td>\n",
       "      <td>[]</td>\n",
       "    </tr>\n",
       "    <tr>\n",
       "      <th>276</th>\n",
       "      <td>ISCI 360</td>\n",
       "      <td>Application of systems science encompassing ge...</td>\n",
       "      <td>[]</td>\n",
       "      <td>[]</td>\n",
       "      <td>[Science and Society]</td>\n",
       "    </tr>\n",
       "    <tr>\n",
       "      <th>483</th>\n",
       "      <td>BIOL 314</td>\n",
       "      <td>The units of biodiversity, from genes to ecosy...</td>\n",
       "      <td>[APBI 260, BIOL 230, FRST 201, GEOB 207, GEOS ...</td>\n",
       "      <td>[]</td>\n",
       "      <td>[]</td>\n",
       "    </tr>\n",
       "  </tbody>\n",
       "</table>\n",
       "</div>"
      ],
      "text/plain": [
       "    Course Code                                        Description  \\\n",
       "628    EOSC 473  Methods of data acquisition, study and analysi...   \n",
       "166    CPSC 298  Approved and supervised technical work experie...   \n",
       "325    MATH 437  Divisibility, congruences, Diophantine equatio...   \n",
       "387    PHYS 170  Statics of particles, equilibrium or rigid bod...   \n",
       "139    CHEM 398  Approved and supervised technical work experie...   \n",
       "702    PHYS 310  Fundamental principles and applications of dat...   \n",
       "438    STAT 399  Work experience in an industrial research sett...   \n",
       "54     BIOL 329  How cells react to external signals, and how t...   \n",
       "276    ISCI 360  Application of systems science encompassing ge...   \n",
       "483    BIOL 314  The units of biodiversity, from genes to ecosy...   \n",
       "\n",
       "                                        prereq_courses  \\\n",
       "628                               [EOSC 372, EOSC 373]   \n",
       "166                                                 []   \n",
       "325                                                 []   \n",
       "387                                                 []   \n",
       "139                                                 []   \n",
       "702  [MATH 152, MATH 221, MATH 223, MATH 200, MATH ...   \n",
       "438                                         [STAT 398]   \n",
       "54                                          [BIOL 200]   \n",
       "276                                                 []   \n",
       "483  [APBI 260, BIOL 230, FRST 201, GEOB 207, GEOS ...   \n",
       "\n",
       "                      coreq_courses                 themes  \n",
       "628                              []                     []  \n",
       "166                              []                     []  \n",
       "325  [MATH 320, MATH 319, MATH 322]                     []  \n",
       "387                              []                     []  \n",
       "139                              []                     []  \n",
       "702                              []                     []  \n",
       "438                              []                     []  \n",
       "54                               []                     []  \n",
       "276                              []  [Science and Society]  \n",
       "483                              []                     []  "
      ]
     },
     "execution_count": 25,
     "metadata": {},
     "output_type": "execute_result"
    }
   ],
   "source": [
    "courses_with_themes.sample(10)"
   ]
  },
  {
   "cell_type": "code",
   "execution_count": 26,
   "metadata": {},
   "outputs": [],
   "source": [
    "# Use in case of extracting all prereqs\n",
    "\n",
    "import json\n",
    "\n",
    "phys_courses_json = []\n",
    "\n",
    "for _, row in courses_with_themes.iterrows():\n",
    "    course_entry = {\n",
    "        \"course_code\": row['Course Code'],\n",
    "        \"description\": row['Description'],\n",
    "        \"prerequisites\": row['prereq_courses'],  # Directly using the list from the CSV\n",
    "        \"corequisites\": row['coreq_courses'],  # You can include other columns as needed\n",
    "        \"themes\": row['themes']\n",
    "    }\n",
    "    phys_courses_json.append(course_entry)\n",
    "\n",
    "# Convert to JSON string (optional, for saving or viewing)\n",
    "courses_json_str = json.dumps(phys_courses_json, indent=4)\n",
    "\n",
    "# Save the JSON to a file\n",
    "with open('data/all_courses.json', 'w') as json_file:\n",
    "    json_file.write(courses_json_str)"
   ]
  },
  {
   "cell_type": "code",
   "execution_count": 27,
   "metadata": {},
   "outputs": [
    {
     "name": "stdout",
     "output_type": "stream",
     "text": [
      "Prerequisites filtered successfully!\n"
     ]
    }
   ],
   "source": [
    "# Load the JSON data\n",
    "with open('data/all_courses.json', 'r') as file:\n",
    "    data = json.load(file)\n",
    "\n",
    "# Extract all valid course codes into a set for fast lookup\n",
    "valid_course_codes = {course['course_code'] for course in data}\n",
    "\n",
    "# Filter the prerequisites for each course\n",
    "for course in data:\n",
    "    # Keep only those prerequisites that are in the valid course codes\n",
    "    course['prerequisites'] = [prereq for prereq in course['prerequisites'] if prereq in valid_course_codes]\n",
    "\n",
    "for course in data:\n",
    "    course['corequisites'] = [coreq for coreq in course['corequisites'] if coreq in valid_course_codes]\n",
    "\n",
    "# Save the modified data back to the JSON file\n",
    "with open('data/all_courses.json', 'w') as file:\n",
    "    json.dump(data, file, indent=4)\n",
    "\n",
    "print(\"Prerequisites filtered successfully!\")"
   ]
  },
  {
   "cell_type": "code",
   "execution_count": null,
   "metadata": {},
   "outputs": [],
   "source": []
  }
 ],
 "metadata": {
  "kernelspec": {
   "display_name": "sci-research",
   "language": "python",
   "name": "python3"
  },
  "language_info": {
   "codemirror_mode": {
    "name": "ipython",
    "version": 3
   },
   "file_extension": ".py",
   "mimetype": "text/x-python",
   "name": "python",
   "nbconvert_exporter": "python",
   "pygments_lexer": "ipython3",
   "version": "3.11.6"
  }
 },
 "nbformat": 4,
 "nbformat_minor": 2
}
